{
  "nbformat": 4,
  "nbformat_minor": 0,
  "metadata": {
    "colab": {
      "name": "Stock Prices Prediction using LSTM.ipynb",
      "provenance": [],
      "collapsed_sections": []
    },
    "kernelspec": {
      "name": "python3",
      "display_name": "Python 3"
    },
    "language_info": {
      "name": "python"
    }
  },
  "cells": [
    {
      "cell_type": "code",
      "source": [
        "from google.colab import drive\n",
        "drive.mount('/content/drive')"
      ],
      "metadata": {
        "colab": {
          "base_uri": "https://localhost:8080/"
        },
        "id": "_fnGAr1zUakq",
        "outputId": "11605158-fdf9-4872-c618-a49b279e21cb"
      },
      "execution_count": 1,
      "outputs": [
        {
          "output_type": "stream",
          "name": "stdout",
          "text": [
            "Drive already mounted at /content/drive; to attempt to forcibly remount, call drive.mount(\"/content/drive\", force_remount=True).\n"
          ]
        }
      ]
    },
    {
      "cell_type": "code",
      "source": [
        "# Import necessary libraries\n",
        "import numpy as np\n",
        "import pandas as pd\n",
        "import pandas_datareader as pdr\n",
        "import matplotlib.pyplot as plt\n",
        "import seaborn as sns\n",
        "import os\n",
        "\n",
        "%matplotlib inline\n",
        "sns.set(style = 'whitegrid', font_scale = 1.5)\n",
        "# sklearn\n",
        "from sklearn.preprocessing import MinMaxScaler\n",
        "from sklearn.metrics import mean_squared_error\n",
        "\n",
        "# Keras\n",
        "from tensorflow.keras.models import Sequential, load_model, save_model\n",
        "from tensorflow.keras.layers import Dense, Activation, Dropout\n",
        "from tensorflow.keras.layers import LSTM\n",
        "\n",
        "# Check current working directory\n",
        "print(os.getcwd())\n",
        "# Change directory \n",
        "path_to_save_data_to = '/content/drive/MyDrive/Colab Notebooks/Stock Prices  Prediction/' \n",
        "os.chdir(path_to_save_data_to)\n",
        "# List all files in directory\n",
        "for dirname, _, filenames in os.walk(path_to_save_data_to):\n",
        "    for filename in filenames:\n",
        "        print(os.path.join(dirname, filename))"
      ],
      "metadata": {
        "colab": {
          "base_uri": "https://localhost:8080/"
        },
        "id": "IQkOz9lzU_Us",
        "outputId": "e484c2eb-2dbf-4bc7-c93a-1ecf04e8c84d"
      },
      "execution_count": 2,
      "outputs": [
        {
          "output_type": "stream",
          "name": "stdout",
          "text": [
            "/content\n",
            "/content/drive/MyDrive/Colab Notebooks/Stock Prices  Prediction/AAPL.csv\n",
            "/content/drive/MyDrive/Colab Notebooks/Stock Prices  Prediction/tiingo.py\n",
            "/content/drive/MyDrive/Colab Notebooks/Stock Prices  Prediction/__pycache__/tiingo.cpython-37.pyc\n"
          ]
        }
      ]
    },
    {
      "cell_type": "code",
      "source": [
        "# Tiingo API Key to get data\n",
        "from tiingo import my_key"
      ],
      "metadata": {
        "id": "F_s-RxENGMfz"
      },
      "execution_count": 3,
      "outputs": []
    },
    {
      "cell_type": "code",
      "source": [
        "# Collecting Data\n",
        "df = pdr.get_data_tiingo('AAPL', api_key = my_key)\n",
        "df.to_csv(path_to_save_data_to + 'AAPL.csv')"
      ],
      "metadata": {
        "colab": {
          "base_uri": "https://localhost:8080/"
        },
        "id": "hwAD6VrTRA8-",
        "outputId": "6e83587d-93bb-41d7-d099-aa1641657ccd"
      },
      "execution_count": 4,
      "outputs": [
        {
          "output_type": "stream",
          "name": "stderr",
          "text": [
            "/usr/local/lib/python3.7/dist-packages/pandas_datareader/tiingo.py:234: FutureWarning: In a future version of pandas all arguments of concat except for the argument 'objs' will be keyword-only\n",
            "  return pd.concat(dfs, self._concat_axis)\n"
          ]
        }
      ]
    },
    {
      "cell_type": "code",
      "source": [
        "# Load our data\n",
        "df = pd.read_csv('AAPL.csv')"
      ],
      "metadata": {
        "id": "lOjoO-BTRA_d"
      },
      "execution_count": 5,
      "outputs": []
    },
    {
      "cell_type": "code",
      "source": [
        "# Take a look at the data\n",
        "display(df.tail())\n",
        "print('-' * 80)\n",
        "print(df.shape)"
      ],
      "metadata": {
        "colab": {
          "base_uri": "https://localhost:8080/",
          "height": 241
        },
        "id": "tan7OTNZRBBg",
        "outputId": "8af41b54-85b5-491f-b24f-bd62ea0ad1e0"
      },
      "execution_count": 6,
      "outputs": [
        {
          "output_type": "display_data",
          "data": {
            "text/plain": [
              "     symbol                       date   close    high     low    open  \\\n",
              "1254   AAPL  2022-05-02 00:00:00+00:00  157.96  158.23  153.27  156.71   \n",
              "1255   AAPL  2022-05-03 00:00:00+00:00  159.48  160.71  156.32  158.15   \n",
              "1256   AAPL  2022-05-04 00:00:00+00:00  166.02  166.48  159.26  159.67   \n",
              "1257   AAPL  2022-05-05 00:00:00+00:00  156.77  164.08  154.95  163.85   \n",
              "1258   AAPL  2022-05-06 00:00:00+00:00  157.28  159.44  154.18  156.01   \n",
              "\n",
              "         volume    adjClose     adjHigh      adjLow     adjOpen  adjVolume  \\\n",
              "1254  123055265  157.729343  157.998949  153.046191  156.481168  123055265   \n",
              "1255   88966526  159.247123  160.475327  156.091738  157.919065   88966526   \n",
              "1256  107521649  165.777573  166.236902  159.027445  159.436846  107521649   \n",
              "1257  130525275  156.541081  163.840406  154.723738  163.610742  130525275   \n",
              "1258  116124647  157.280000  159.440000  154.180000  156.010000  116124647   \n",
              "\n",
              "      divCash  splitFactor  \n",
              "1254     0.00          1.0  \n",
              "1255     0.00          1.0  \n",
              "1256     0.00          1.0  \n",
              "1257     0.00          1.0  \n",
              "1258     0.23          1.0  "
            ],
            "text/html": [
              "\n",
              "  <div id=\"df-1db3c572-e64b-4ec8-99fa-89f00d82afd0\">\n",
              "    <div class=\"colab-df-container\">\n",
              "      <div>\n",
              "<style scoped>\n",
              "    .dataframe tbody tr th:only-of-type {\n",
              "        vertical-align: middle;\n",
              "    }\n",
              "\n",
              "    .dataframe tbody tr th {\n",
              "        vertical-align: top;\n",
              "    }\n",
              "\n",
              "    .dataframe thead th {\n",
              "        text-align: right;\n",
              "    }\n",
              "</style>\n",
              "<table border=\"1\" class=\"dataframe\">\n",
              "  <thead>\n",
              "    <tr style=\"text-align: right;\">\n",
              "      <th></th>\n",
              "      <th>symbol</th>\n",
              "      <th>date</th>\n",
              "      <th>close</th>\n",
              "      <th>high</th>\n",
              "      <th>low</th>\n",
              "      <th>open</th>\n",
              "      <th>volume</th>\n",
              "      <th>adjClose</th>\n",
              "      <th>adjHigh</th>\n",
              "      <th>adjLow</th>\n",
              "      <th>adjOpen</th>\n",
              "      <th>adjVolume</th>\n",
              "      <th>divCash</th>\n",
              "      <th>splitFactor</th>\n",
              "    </tr>\n",
              "  </thead>\n",
              "  <tbody>\n",
              "    <tr>\n",
              "      <th>1254</th>\n",
              "      <td>AAPL</td>\n",
              "      <td>2022-05-02 00:00:00+00:00</td>\n",
              "      <td>157.96</td>\n",
              "      <td>158.23</td>\n",
              "      <td>153.27</td>\n",
              "      <td>156.71</td>\n",
              "      <td>123055265</td>\n",
              "      <td>157.729343</td>\n",
              "      <td>157.998949</td>\n",
              "      <td>153.046191</td>\n",
              "      <td>156.481168</td>\n",
              "      <td>123055265</td>\n",
              "      <td>0.00</td>\n",
              "      <td>1.0</td>\n",
              "    </tr>\n",
              "    <tr>\n",
              "      <th>1255</th>\n",
              "      <td>AAPL</td>\n",
              "      <td>2022-05-03 00:00:00+00:00</td>\n",
              "      <td>159.48</td>\n",
              "      <td>160.71</td>\n",
              "      <td>156.32</td>\n",
              "      <td>158.15</td>\n",
              "      <td>88966526</td>\n",
              "      <td>159.247123</td>\n",
              "      <td>160.475327</td>\n",
              "      <td>156.091738</td>\n",
              "      <td>157.919065</td>\n",
              "      <td>88966526</td>\n",
              "      <td>0.00</td>\n",
              "      <td>1.0</td>\n",
              "    </tr>\n",
              "    <tr>\n",
              "      <th>1256</th>\n",
              "      <td>AAPL</td>\n",
              "      <td>2022-05-04 00:00:00+00:00</td>\n",
              "      <td>166.02</td>\n",
              "      <td>166.48</td>\n",
              "      <td>159.26</td>\n",
              "      <td>159.67</td>\n",
              "      <td>107521649</td>\n",
              "      <td>165.777573</td>\n",
              "      <td>166.236902</td>\n",
              "      <td>159.027445</td>\n",
              "      <td>159.436846</td>\n",
              "      <td>107521649</td>\n",
              "      <td>0.00</td>\n",
              "      <td>1.0</td>\n",
              "    </tr>\n",
              "    <tr>\n",
              "      <th>1257</th>\n",
              "      <td>AAPL</td>\n",
              "      <td>2022-05-05 00:00:00+00:00</td>\n",
              "      <td>156.77</td>\n",
              "      <td>164.08</td>\n",
              "      <td>154.95</td>\n",
              "      <td>163.85</td>\n",
              "      <td>130525275</td>\n",
              "      <td>156.541081</td>\n",
              "      <td>163.840406</td>\n",
              "      <td>154.723738</td>\n",
              "      <td>163.610742</td>\n",
              "      <td>130525275</td>\n",
              "      <td>0.00</td>\n",
              "      <td>1.0</td>\n",
              "    </tr>\n",
              "    <tr>\n",
              "      <th>1258</th>\n",
              "      <td>AAPL</td>\n",
              "      <td>2022-05-06 00:00:00+00:00</td>\n",
              "      <td>157.28</td>\n",
              "      <td>159.44</td>\n",
              "      <td>154.18</td>\n",
              "      <td>156.01</td>\n",
              "      <td>116124647</td>\n",
              "      <td>157.280000</td>\n",
              "      <td>159.440000</td>\n",
              "      <td>154.180000</td>\n",
              "      <td>156.010000</td>\n",
              "      <td>116124647</td>\n",
              "      <td>0.23</td>\n",
              "      <td>1.0</td>\n",
              "    </tr>\n",
              "  </tbody>\n",
              "</table>\n",
              "</div>\n",
              "      <button class=\"colab-df-convert\" onclick=\"convertToInteractive('df-1db3c572-e64b-4ec8-99fa-89f00d82afd0')\"\n",
              "              title=\"Convert this dataframe to an interactive table.\"\n",
              "              style=\"display:none;\">\n",
              "        \n",
              "  <svg xmlns=\"http://www.w3.org/2000/svg\" height=\"24px\"viewBox=\"0 0 24 24\"\n",
              "       width=\"24px\">\n",
              "    <path d=\"M0 0h24v24H0V0z\" fill=\"none\"/>\n",
              "    <path d=\"M18.56 5.44l.94 2.06.94-2.06 2.06-.94-2.06-.94-.94-2.06-.94 2.06-2.06.94zm-11 1L8.5 8.5l.94-2.06 2.06-.94-2.06-.94L8.5 2.5l-.94 2.06-2.06.94zm10 10l.94 2.06.94-2.06 2.06-.94-2.06-.94-.94-2.06-.94 2.06-2.06.94z\"/><path d=\"M17.41 7.96l-1.37-1.37c-.4-.4-.92-.59-1.43-.59-.52 0-1.04.2-1.43.59L10.3 9.45l-7.72 7.72c-.78.78-.78 2.05 0 2.83L4 21.41c.39.39.9.59 1.41.59.51 0 1.02-.2 1.41-.59l7.78-7.78 2.81-2.81c.8-.78.8-2.07 0-2.86zM5.41 20L4 18.59l7.72-7.72 1.47 1.35L5.41 20z\"/>\n",
              "  </svg>\n",
              "      </button>\n",
              "      \n",
              "  <style>\n",
              "    .colab-df-container {\n",
              "      display:flex;\n",
              "      flex-wrap:wrap;\n",
              "      gap: 12px;\n",
              "    }\n",
              "\n",
              "    .colab-df-convert {\n",
              "      background-color: #E8F0FE;\n",
              "      border: none;\n",
              "      border-radius: 50%;\n",
              "      cursor: pointer;\n",
              "      display: none;\n",
              "      fill: #1967D2;\n",
              "      height: 32px;\n",
              "      padding: 0 0 0 0;\n",
              "      width: 32px;\n",
              "    }\n",
              "\n",
              "    .colab-df-convert:hover {\n",
              "      background-color: #E2EBFA;\n",
              "      box-shadow: 0px 1px 2px rgba(60, 64, 67, 0.3), 0px 1px 3px 1px rgba(60, 64, 67, 0.15);\n",
              "      fill: #174EA6;\n",
              "    }\n",
              "\n",
              "    [theme=dark] .colab-df-convert {\n",
              "      background-color: #3B4455;\n",
              "      fill: #D2E3FC;\n",
              "    }\n",
              "\n",
              "    [theme=dark] .colab-df-convert:hover {\n",
              "      background-color: #434B5C;\n",
              "      box-shadow: 0px 1px 3px 1px rgba(0, 0, 0, 0.15);\n",
              "      filter: drop-shadow(0px 1px 2px rgba(0, 0, 0, 0.3));\n",
              "      fill: #FFFFFF;\n",
              "    }\n",
              "  </style>\n",
              "\n",
              "      <script>\n",
              "        const buttonEl =\n",
              "          document.querySelector('#df-1db3c572-e64b-4ec8-99fa-89f00d82afd0 button.colab-df-convert');\n",
              "        buttonEl.style.display =\n",
              "          google.colab.kernel.accessAllowed ? 'block' : 'none';\n",
              "\n",
              "        async function convertToInteractive(key) {\n",
              "          const element = document.querySelector('#df-1db3c572-e64b-4ec8-99fa-89f00d82afd0');\n",
              "          const dataTable =\n",
              "            await google.colab.kernel.invokeFunction('convertToInteractive',\n",
              "                                                     [key], {});\n",
              "          if (!dataTable) return;\n",
              "\n",
              "          const docLinkHtml = 'Like what you see? Visit the ' +\n",
              "            '<a target=\"_blank\" href=https://colab.research.google.com/notebooks/data_table.ipynb>data table notebook</a>'\n",
              "            + ' to learn more about interactive tables.';\n",
              "          element.innerHTML = '';\n",
              "          dataTable['output_type'] = 'display_data';\n",
              "          await google.colab.output.renderOutput(dataTable, element);\n",
              "          const docLink = document.createElement('div');\n",
              "          docLink.innerHTML = docLinkHtml;\n",
              "          element.appendChild(docLink);\n",
              "        }\n",
              "      </script>\n",
              "    </div>\n",
              "  </div>\n",
              "  "
            ]
          },
          "metadata": {}
        },
        {
          "output_type": "stream",
          "name": "stdout",
          "text": [
            "--------------------------------------------------------------------------------\n",
            "(1259, 14)\n"
          ]
        }
      ]
    },
    {
      "cell_type": "code",
      "source": [
        "# Only take the closing price\n",
        "df1 = df.reset_index()['close']\n",
        "print(type(df1), df1.shape)\n",
        "print('-' * 80)\n",
        "print(df1)"
      ],
      "metadata": {
        "colab": {
          "base_uri": "https://localhost:8080/"
        },
        "id": "bAfliOhKRBE0",
        "outputId": "1caee75a-dfd9-4156-d62a-017fd580b6f7"
      },
      "execution_count": 7,
      "outputs": [
        {
          "output_type": "stream",
          "name": "stdout",
          "text": [
            "<class 'pandas.core.series.Series'> (1259,)\n",
            "--------------------------------------------------------------------------------\n",
            "0       153.99\n",
            "1       153.26\n",
            "2       153.95\n",
            "3       156.10\n",
            "4       155.70\n",
            "         ...  \n",
            "1254    157.96\n",
            "1255    159.48\n",
            "1256    166.02\n",
            "1257    156.77\n",
            "1258    157.28\n",
            "Name: close, Length: 1259, dtype: float64\n"
          ]
        }
      ]
    },
    {
      "cell_type": "code",
      "source": [
        "# Plot the closing price\n",
        "fig = plt.figure(figsize = (10, 5))\n",
        "plt.plot(df1)\n",
        "plt.xlabel('Index')\n",
        "plt.ylabel('Price')"
      ],
      "metadata": {
        "colab": {
          "base_uri": "https://localhost:8080/",
          "height": 370
        },
        "id": "MvPXAC5iZtnU",
        "outputId": "4c41adbe-4cfa-45a2-ec92-48acc35e4b5c"
      },
      "execution_count": 8,
      "outputs": [
        {
          "output_type": "execute_result",
          "data": {
            "text/plain": [
              "Text(0, 0.5, 'Price')"
            ]
          },
          "metadata": {},
          "execution_count": 8
        },
        {
          "output_type": "display_data",
          "data": {
            "text/plain": [
              "<Figure size 720x360 with 1 Axes>"
            ],
            "image/png": "[encoded data removed]"
          },
          "metadata": {}
        }
      ]
    },
    {
      "cell_type": "markdown",
      "source": [
        "## Data Preprocessing"
      ],
      "metadata": {
        "id": "j_Zf2A4WbIrH"
      }
    },
    {
      "cell_type": "markdown",
      "source": [
        "LSTMs are sensitive to the scale of the data, so we apply MinMaxScaler"
      ],
      "metadata": {
        "id": "JDbSaQaxbNAU"
      }
    },
    {
      "cell_type": "code",
      "source": [
        "# scale price between 0, 1\n",
        "scaler = MinMaxScaler(feature_range = (0, 1))\n",
        "# Apply the scaler\n",
        "df1 = scaler.fit_transform(np.array(df1).reshape(-1, 1))\n",
        "print(type(df1), df1.shape)\n",
        "print(df1)"
      ],
      "metadata": {
        "colab": {
          "base_uri": "https://localhost:8080/"
        },
        "id": "SWJ0gvFTa6fW",
        "outputId": "b2a8c3d4-0081-46fe-cb86-f740c93da97f"
      },
      "execution_count": 9,
      "outputs": [
        {
          "output_type": "stream",
          "name": "stdout",
          "text": [
            "<class 'numpy.ndarray'> (1259, 1)\n",
            "[[0.11809643]\n",
            " [0.116268  ]\n",
            " [0.11799624]\n",
            " ...\n",
            " [0.14822793]\n",
            " [0.12505949]\n",
            " [0.12633688]]\n"
          ]
        }
      ]
    },
    {
      "cell_type": "code",
      "source": [
        "# Splitting our data to train and test\n",
        "train_size = int(len(df1) * 0.65)\n",
        "test_size = len(df1) - train_size\n",
        "print(train_size, test_size)\n",
        "\n",
        "train_data, test_data= df1[0:train_size,:], df1[train_size:len(df1),:1]"
      ],
      "metadata": {
        "colab": {
          "base_uri": "https://localhost:8080/"
        },
        "id": "PXkrPOizbDzw",
        "outputId": "e8fb7f35-c587-4b98-d10d-1af882dcccf9"
      },
      "execution_count": 10,
      "outputs": [
        {
          "output_type": "stream",
          "name": "stdout",
          "text": [
            "818 441\n"
          ]
        }
      ]
    },
    {
      "cell_type": "code",
      "source": [
        "train_data[:10]"
      ],
      "metadata": {
        "colab": {
          "base_uri": "https://localhost:8080/"
        },
        "id": "F_xp5du1bD2B",
        "outputId": "2479fdae-9baa-4f52-b2ea-5b3dfe913fef"
      },
      "execution_count": 11,
      "outputs": [
        {
          "output_type": "execute_result",
          "data": {
            "text/plain": [
              "array([[0.11809643],\n",
              "       [0.116268  ],\n",
              "       [0.11799624],\n",
              "       [0.12338134],\n",
              "       [0.12237946],\n",
              "       [0.12180338],\n",
              "       [0.10872887],\n",
              "       [0.11446462],\n",
              "       [0.11576706],\n",
              "       [0.11809643]])"
            ]
          },
          "metadata": {},
          "execution_count": 11
        }
      ]
    },
    {
      "cell_type": "markdown",
      "source": [
        "After Scaling and Splitting our data, we need to define a function that takes in two arguments, the dataset which is a NumPy array that we want to convert into a dataset, and the time_step  which is the number of previous time steps to use as input variables to predict the next time period."
      ],
      "metadata": {
        "id": "1OiAYUWykpVW"
      }
    },
    {
      "cell_type": "code",
      "source": [
        "def create_dataset(dataset, look_back=1):\n",
        "    dataX, dataY = [], []\n",
        "    for i in range(len(dataset) -look_back -1):\n",
        "        a = dataset[i: (i+look_back), 0]\n",
        "        dataX.append(a)\n",
        "        dataY.append(dataset[i+look_back, 0])\n",
        "    \n",
        "    return np.array(dataX), np.array(dataY)"
      ],
      "metadata": {
        "id": "GwOMcTZ0bD4S"
      },
      "execution_count": 12,
      "outputs": []
    },
    {
      "cell_type": "markdown",
      "source": [
        "Let's  use this function to prepare the train and test datasets ready for modelling."
      ],
      "metadata": {
        "id": "P-jm6m2Ipd8x"
      }
    },
    {
      "cell_type": "code",
      "source": [
        "# reshape into X=t, t+1, t+2, Y=t+3\n",
        "look_back = 3\n",
        "train_X, train_Y = create_dataset(train_data, look_back)\n",
        "test_X, test_Y = create_dataset(test_data, look_back)"
      ],
      "metadata": {
        "id": "MGiX5lmzbD6h"
      },
      "execution_count": 13,
      "outputs": []
    },
    {
      "cell_type": "markdown",
      "source": [
        "To view the results, print the first 5 records of train X, and Y."
      ],
      "metadata": {
        "id": "YV2kjQQXs8T9"
      }
    },
    {
      "cell_type": "code",
      "source": [
        "# View function results\n",
        "train_X_5, train_Y_5 = train_X[:5], train_Y[:5]\n",
        "print(train_X_5)\n",
        "print('-' * 20)\n",
        "print(train_Y_5)"
      ],
      "metadata": {
        "colab": {
          "base_uri": "https://localhost:8080/"
        },
        "id": "XVR-vWjIbD8d",
        "outputId": "a885b4f6-62c4-49c2-cea6-2acdabb37483"
      },
      "execution_count": 14,
      "outputs": [
        {
          "output_type": "stream",
          "name": "stdout",
          "text": [
            "[[0.11809643 0.116268   0.11799624]\n",
            " [0.116268   0.11799624 0.12338134]\n",
            " [0.11799624 0.12338134 0.12237946]\n",
            " [0.12338134 0.12237946 0.12180338]\n",
            " [0.12237946 0.12180338 0.10872887]]\n",
            "--------------------\n",
            "[0.12338134 0.12237946 0.12180338 0.10872887 0.11446462]\n"
          ]
        }
      ]
    },
    {
      "cell_type": "code",
      "source": [
        "# View data shapes\n",
        "print(train_X.shape, train_Y.shape)\n",
        "print('-'* 20)\n",
        "print(test_X.shape), print(test_Y.shape)"
      ],
      "metadata": {
        "colab": {
          "base_uri": "https://localhost:8080/"
        },
        "id": "LQSCMucObD-s",
        "outputId": "381c5739-e025-4716-e13f-c012d356ce39"
      },
      "execution_count": 15,
      "outputs": [
        {
          "output_type": "stream",
          "name": "stdout",
          "text": [
            "(814, 3) (814,)\n",
            "--------------------\n",
            "(437, 3)\n",
            "(437,)\n"
          ]
        },
        {
          "output_type": "execute_result",
          "data": {
            "text/plain": [
              "(None, None)"
            ]
          },
          "metadata": {},
          "execution_count": 15
        }
      ]
    },
    {
      "cell_type": "markdown",
      "source": [
        "## Reshape Data for LSTM\n",
        "\n",
        "The input to every LSTM layer must be 3D. The three dimensions of the input are:\n",
        "\n",
        "*  Samples : One sequence is one sample. A batch is compromised of one or more samples.\n",
        "\n",
        "*  Time Steps: One time step is one point of observation in the sample.\n",
        "\n",
        "*  Features : One feature is one observation at a time step.\n",
        "\n",
        "Reshape input to : [n_samples, n_timesteps, n_features]"
      ],
      "metadata": {
        "id": "FwnJucf9DZDU"
      }
    },
    {
      "cell_type": "code",
      "source": [
        "train_X = np.reshape(train_X, (train_X.shape[0], 1, train_X.shape[1]))\n",
        "test_X = test_X.reshape(test_X.shape[0], 1, test_X.shape[1])"
      ],
      "metadata": {
        "id": "eJurEB_sbECn"
      },
      "execution_count": 16,
      "outputs": []
    },
    {
      "cell_type": "code",
      "source": [
        "# View data shapes\n",
        "print('train_X shape: {}  test_Y shape: {}'.format(train_X.shape, test_X.shape))\n",
        "print('train_Y shape: {}  test_Y shape: {}'.format(train_Y.shape, test_Y.shape))"
      ],
      "metadata": {
        "colab": {
          "base_uri": "https://localhost:8080/"
        },
        "id": "zTXemVAswTgQ",
        "outputId": "3bfa3f79-8fbd-466f-c699-1477728200f4"
      },
      "execution_count": 17,
      "outputs": [
        {
          "output_type": "stream",
          "name": "stdout",
          "text": [
            "train_X shape: (814, 1, 3)  test_Y shape: (437, 1, 3)\n",
            "train_Y shape: (814,)  test_Y shape: (437,)\n"
          ]
        }
      ]
    },
    {
      "cell_type": "code",
      "source": [
        "# Construct the model\n",
        "model = Sequential()\n",
        "model.add(LSTM(50, return_sequences=True, input_shape=(1, look_back)))\n",
        "model.add(LSTM(50, return_sequences=True))\n",
        "model.add(LSTM(50))\n",
        "model.add(Dense(1))\n",
        "model.add(Activation('linear'))\n",
        "model.compile(loss = 'mean_squared_error', optimizer = 'rmsprop')"
      ],
      "metadata": {
        "id": "iwIz9g0Ct8tM"
      },
      "execution_count": 18,
      "outputs": []
    },
    {
      "cell_type": "code",
      "source": [
        "model.summary()"
      ],
      "metadata": {
        "colab": {
          "base_uri": "https://localhost:8080/"
        },
        "id": "DT-EGcZA0B1i",
        "outputId": "4455e07c-c132-465e-8dbc-8c00dc8a1164"
      },
      "execution_count": 19,
      "outputs": [
        {
          "output_type": "stream",
          "name": "stdout",
          "text": [
            "Model: \"sequential\"\n",
            "_________________________________________________________________\n",
            " Layer (type)                Output Shape              Param #   \n",
            "=================================================================\n",
            " lstm (LSTM)                 (None, 1, 50)             10800     \n",
            "                                                                 \n",
            " lstm_1 (LSTM)               (None, 1, 50)             20200     \n",
            "                                                                 \n",
            " lstm_2 (LSTM)               (None, 50)                20200     \n",
            "                                                                 \n",
            " dense (Dense)               (None, 1)                 51        \n",
            "                                                                 \n",
            " activation (Activation)     (None, 1)                 0         \n",
            "                                                                 \n",
            "=================================================================\n",
            "Total params: 51,251\n",
            "Trainable params: 51,251\n",
            "Non-trainable params: 0\n",
            "_________________________________________________________________\n"
          ]
        }
      ]
    },
    {
      "cell_type": "code",
      "source": [
        "# Fit model on train data\n",
        "history = model.fit(train_X, train_Y, validation_data = (test_X, test_Y), epochs=60, batch_size=64, verbose=1)"
      ],
      "metadata": {
        "colab": {
          "base_uri": "https://localhost:8080/"
        },
        "id": "gEdCugdh0D6g",
        "outputId": "7a386ef8-e4a5-4df6-9df0-9fe4cff589a3"
      },
      "execution_count": 20,
      "outputs": [
        {
          "output_type": "stream",
          "name": "stdout",
          "text": [
            "Epoch 1/60\n",
            "13/13 [==============================] - 19s 271ms/step - loss: 0.0659 - val_loss: 0.0192\n",
            "Epoch 2/60\n",
            "13/13 [==============================] - 0s 18ms/step - loss: 0.0218 - val_loss: 0.0239\n",
            "Epoch 3/60\n",
            "13/13 [==============================] - 0s 15ms/step - loss: 0.0097 - val_loss: 0.0182\n",
            "Epoch 4/60\n",
            "13/13 [==============================] - 0s 15ms/step - loss: 0.0057 - val_loss: 0.0105\n",
            "Epoch 5/60\n",
            "13/13 [==============================] - 0s 16ms/step - loss: 0.0021 - val_loss: 0.0062\n",
            "Epoch 6/60\n",
            "13/13 [==============================] - 0s 18ms/step - loss: 6.4304e-04 - val_loss: 0.0045\n",
            "Epoch 7/60\n",
            "13/13 [==============================] - 0s 16ms/step - loss: 5.0562e-04 - val_loss: 0.0054\n",
            "Epoch 8/60\n",
            "13/13 [==============================] - 0s 18ms/step - loss: 5.0537e-04 - val_loss: 0.0059\n",
            "Epoch 9/60\n",
            "13/13 [==============================] - 0s 21ms/step - loss: 5.0437e-04 - val_loss: 0.0041\n",
            "Epoch 10/60\n",
            "13/13 [==============================] - 0s 10ms/step - loss: 3.8249e-04 - val_loss: 0.0065\n",
            "Epoch 11/60\n",
            "13/13 [==============================] - 0s 9ms/step - loss: 4.6623e-04 - val_loss: 0.0054\n",
            "Epoch 12/60\n",
            "13/13 [==============================] - 0s 9ms/step - loss: 5.0358e-04 - val_loss: 0.0045\n",
            "Epoch 13/60\n",
            "13/13 [==============================] - 0s 9ms/step - loss: 3.3513e-04 - val_loss: 0.0055\n",
            "Epoch 14/60\n",
            "13/13 [==============================] - 0s 10ms/step - loss: 4.8027e-04 - val_loss: 0.0053\n",
            "Epoch 15/60\n",
            "13/13 [==============================] - 0s 10ms/step - loss: 4.4906e-04 - val_loss: 0.0060\n",
            "Epoch 16/60\n",
            "13/13 [==============================] - 0s 10ms/step - loss: 4.3437e-04 - val_loss: 0.0044\n",
            "Epoch 17/60\n",
            "13/13 [==============================] - 0s 10ms/step - loss: 3.5745e-04 - val_loss: 0.0050\n",
            "Epoch 18/60\n",
            "13/13 [==============================] - 0s 10ms/step - loss: 4.4531e-04 - val_loss: 0.0037\n",
            "Epoch 19/60\n",
            "13/13 [==============================] - 0s 10ms/step - loss: 4.2315e-04 - val_loss: 0.0042\n",
            "Epoch 20/60\n",
            "13/13 [==============================] - 0s 10ms/step - loss: 4.3441e-04 - val_loss: 0.0042\n",
            "Epoch 21/60\n",
            "13/13 [==============================] - 0s 10ms/step - loss: 3.2526e-04 - val_loss: 0.0052\n",
            "Epoch 22/60\n",
            "13/13 [==============================] - 0s 11ms/step - loss: 4.3726e-04 - val_loss: 0.0046\n",
            "Epoch 23/60\n",
            "13/13 [==============================] - 0s 10ms/step - loss: 4.6686e-04 - val_loss: 0.0046\n",
            "Epoch 24/60\n",
            "13/13 [==============================] - 0s 12ms/step - loss: 2.5843e-04 - val_loss: 0.0041\n",
            "Epoch 25/60\n",
            "13/13 [==============================] - 0s 10ms/step - loss: 4.0393e-04 - val_loss: 0.0032\n",
            "Epoch 26/60\n",
            "13/13 [==============================] - 0s 11ms/step - loss: 4.0413e-04 - val_loss: 0.0039\n",
            "Epoch 27/60\n",
            "13/13 [==============================] - 0s 10ms/step - loss: 3.5099e-04 - val_loss: 0.0036\n",
            "Epoch 28/60\n",
            "13/13 [==============================] - 0s 11ms/step - loss: 4.3481e-04 - val_loss: 0.0043\n",
            "Epoch 29/60\n",
            "13/13 [==============================] - 0s 13ms/step - loss: 2.3915e-04 - val_loss: 0.0038\n",
            "Epoch 30/60\n",
            "13/13 [==============================] - 0s 10ms/step - loss: 4.2358e-04 - val_loss: 0.0035\n",
            "Epoch 31/60\n",
            "13/13 [==============================] - 0s 10ms/step - loss: 3.0513e-04 - val_loss: 0.0044\n",
            "Epoch 32/60\n",
            "13/13 [==============================] - 0s 10ms/step - loss: 3.2767e-04 - val_loss: 0.0039\n",
            "Epoch 33/60\n",
            "13/13 [==============================] - 0s 10ms/step - loss: 3.4933e-04 - val_loss: 0.0032\n",
            "Epoch 34/60\n",
            "13/13 [==============================] - 0s 10ms/step - loss: 3.6086e-04 - val_loss: 0.0038\n",
            "Epoch 35/60\n",
            "13/13 [==============================] - 0s 10ms/step - loss: 2.4341e-04 - val_loss: 0.0039\n",
            "Epoch 36/60\n",
            "13/13 [==============================] - 0s 10ms/step - loss: 3.5127e-04 - val_loss: 0.0032\n",
            "Epoch 37/60\n",
            "13/13 [==============================] - 0s 11ms/step - loss: 3.3530e-04 - val_loss: 0.0040\n",
            "Epoch 38/60\n",
            "13/13 [==============================] - 0s 10ms/step - loss: 3.5558e-04 - val_loss: 0.0030\n",
            "Epoch 39/60\n",
            "13/13 [==============================] - 0s 11ms/step - loss: 3.0003e-04 - val_loss: 0.0031\n",
            "Epoch 40/60\n",
            "13/13 [==============================] - 0s 10ms/step - loss: 3.7327e-04 - val_loss: 0.0032\n",
            "Epoch 41/60\n",
            "13/13 [==============================] - 0s 12ms/step - loss: 3.3090e-04 - val_loss: 0.0036\n",
            "Epoch 42/60\n",
            "13/13 [==============================] - 0s 10ms/step - loss: 3.3541e-04 - val_loss: 0.0030\n",
            "Epoch 43/60\n",
            "13/13 [==============================] - 0s 11ms/step - loss: 3.0016e-04 - val_loss: 0.0029\n",
            "Epoch 44/60\n",
            "13/13 [==============================] - 0s 9ms/step - loss: 2.7610e-04 - val_loss: 0.0040\n",
            "Epoch 45/60\n",
            "13/13 [==============================] - 0s 10ms/step - loss: 3.4788e-04 - val_loss: 0.0035\n",
            "Epoch 46/60\n",
            "13/13 [==============================] - 0s 10ms/step - loss: 3.4024e-04 - val_loss: 0.0035\n",
            "Epoch 47/60\n",
            "13/13 [==============================] - 0s 12ms/step - loss: 3.3039e-04 - val_loss: 0.0029\n",
            "Epoch 48/60\n",
            "13/13 [==============================] - 0s 10ms/step - loss: 3.3679e-04 - val_loss: 0.0035\n",
            "Epoch 49/60\n",
            "13/13 [==============================] - 0s 11ms/step - loss: 3.0576e-04 - val_loss: 0.0032\n",
            "Epoch 50/60\n",
            "13/13 [==============================] - 0s 10ms/step - loss: 3.5683e-04 - val_loss: 0.0032\n",
            "Epoch 51/60\n",
            "13/13 [==============================] - 0s 10ms/step - loss: 3.0897e-04 - val_loss: 0.0031\n",
            "Epoch 52/60\n",
            "13/13 [==============================] - 0s 11ms/step - loss: 3.0507e-04 - val_loss: 0.0037\n",
            "Epoch 53/60\n",
            "13/13 [==============================] - 0s 12ms/step - loss: 3.4471e-04 - val_loss: 0.0035\n",
            "Epoch 54/60\n",
            "13/13 [==============================] - 0s 10ms/step - loss: 3.5748e-04 - val_loss: 0.0031\n",
            "Epoch 55/60\n",
            "13/13 [==============================] - 0s 10ms/step - loss: 3.2420e-04 - val_loss: 0.0032\n",
            "Epoch 56/60\n",
            "13/13 [==============================] - 0s 11ms/step - loss: 2.1806e-04 - val_loss: 0.0031\n",
            "Epoch 57/60\n",
            "13/13 [==============================] - 0s 10ms/step - loss: 3.8484e-04 - val_loss: 0.0033\n",
            "Epoch 58/60\n",
            "13/13 [==============================] - 0s 10ms/step - loss: 3.4775e-04 - val_loss: 0.0030\n",
            "Epoch 59/60\n",
            "13/13 [==============================] - 0s 10ms/step - loss: 3.1797e-04 - val_loss: 0.0030\n",
            "Epoch 60/60\n",
            "13/13 [==============================] - 0s 11ms/step - loss: 2.9066e-04 - val_loss: 0.0031\n"
          ]
        }
      ]
    },
    {
      "cell_type": "code",
      "source": [
        "# Train data prediction\n",
        "predict_train = model.predict(train_X)\n",
        "# Transform training data to original form\n",
        "predict_train = scaler.inverse_transform(predict_train)\n",
        "train_Y_inverse = scaler.inverse_transform(train_Y.reshape(-1, 1))\n",
        "\n",
        "score_train = 0\n",
        "for i in range(train_Y_inverse.shape[0]):\n",
        "    score_train += np.sqrt(mean_squared_error(train_Y_inverse[i], predict_train[i]))\n",
        "# Average training score\n",
        "score_train = score_train / train_Y_inverse.shape[0]\n",
        "\n",
        "# Test data prediction\n",
        "predict_test = model.predict(test_X)\n",
        "predict_test = scaler.inverse_transform(predict_test)\n",
        "# .reshape(-1, 1) to avoid scikit-learn throwing error : Expected 2D array, got 1D\n",
        "test_Y_inverse = scaler.inverse_transform(test_Y.reshape(-1, 1))\n",
        "\n",
        "score_test = 0\n",
        "for i in range(test_Y_inverse.shape[0]):\n",
        "    score_test += np.sqrt(mean_squared_error(test_Y_inverse[i], predict_test[i]))\n",
        "score_test = score_test / test_Y_inverse.shape[0]\n",
        "\n",
        "print('Average Training Difference: {:.2f}'.format(score_train))\n",
        "print('Average Testing Difference: {:.2f}'.format(score_test))\n",
        "print('Train Accuracy for RMSE: {:.2f} '.format(100 - score_train))\n",
        "print('Test Accuracy for RMSE: {:.2f} '.format(100 - score_test))"
      ],
      "metadata": {
        "colab": {
          "base_uri": "https://localhost:8080/"
        },
        "id": "ERLLeEyX0X4W",
        "outputId": "9c3019e1-7b76-4dcd-e648-fcedced462ab"
      },
      "execution_count": 21,
      "outputs": [
        {
          "output_type": "stream",
          "name": "stdout",
          "text": [
            "Average Training Difference: 3.59\n",
            "Average Testing Difference: 5.63\n",
            "Train Accuracy for RMSE: 96.41 \n",
            "Test Accuracy for RMSE: 94.37 \n"
          ]
        }
      ]
    },
    {
      "cell_type": "code",
      "source": [
        "from IPython.core.pylabtools import figsize\n",
        "fig, ax = plt.subplots(1, 2, figsize=(14, 7))\n",
        "ax[0].plot(np.array(history.history['val_loss']), color = 'b')\n",
        "ax[1].plot(np.array(history.history['loss']), color = 'g')\n",
        "# Set titles and Xlabels\n",
        "ax[0].set_xlabel('Epochs')\n",
        "ax[1].set_xlabel('Epochs')\n",
        "ax[0].title.set_text('Validation Loss')\n",
        "ax[1].title.set_text('Training Loss')"
      ],
      "metadata": {
        "colab": {
          "base_uri": "https://localhost:8080/",
          "height": 481
        },
        "id": "1VQCryCU2G8M",
        "outputId": "bfdb4454-50ce-4ddc-a7c8-71bf052302aa"
      },
      "execution_count": 22,
      "outputs": [
        {
          "output_type": "display_data",
          "data": {
            "text/plain": [
              "<Figure size 1008x504 with 2 Axes>"
            ],
            "image/png": "[encoded data removed]"
          },
          "metadata": {}
        }
      ]
    },
    {
      "cell_type": "markdown",
      "source": [
        "## Plot Closing Prices: Actual Vs. Predicted"
      ],
      "metadata": {
        "id": "1dvMJYJx-WEU"
      }
    },
    {
      "cell_type": "code",
      "source": [
        "# Check shapes before plotting\n",
        "print(predict_test.shape, test_Y_inverse.shape)"
      ],
      "metadata": {
        "colab": {
          "base_uri": "https://localhost:8080/"
        },
        "id": "qTU3kv5a-Lqv",
        "outputId": "a371910f-0685-471d-c646-35295f7028b6"
      },
      "execution_count": 23,
      "outputs": [
        {
          "output_type": "stream",
          "name": "stdout",
          "text": [
            "(437, 1) (437, 1)\n"
          ]
        }
      ]
    },
    {
      "cell_type": "code",
      "source": [
        "fig = plt.figure(figsize = (10, 5))\n",
        "plt.plot(pd.DataFrame(predict_test), label='Predicted')\n",
        "plt.plot(pd.DataFrame(test_Y_inverse), label='Actual')\n",
        "plt.legend()\n",
        "plt.show()"
      ],
      "metadata": {
        "colab": {
          "base_uri": "https://localhost:8080/",
          "height": 330
        },
        "id": "9B1iCtnf-gzb",
        "outputId": "148d2c75-f0b0-4bef-fad8-e503d4ea60eb"
      },
      "execution_count": 24,
      "outputs": [
        {
          "output_type": "display_data",
          "data": {
            "text/plain": [
              "<Figure size 720x360 with 1 Axes>"
            ],
            "image/png": "[encoded data removed]"
          },
          "metadata": {}
        }
      ]
    },
    {
      "cell_type": "code",
      "source": [
        ""
      ],
      "metadata": {
        "id": "-M1G2-bPAHNF"
      },
      "execution_count": 24,
      "outputs": []
    }
  ]
}